{
  "nbformat": 4,
  "nbformat_minor": 0,
  "metadata": {
    "colab": {
      "provenance": [],
      "authorship_tag": "ABX9TyNl8Z2ysSRVcBGOSLUNzq25",
      "include_colab_link": true
    },
    "kernelspec": {
      "name": "python3",
      "display_name": "Python 3"
    },
    "language_info": {
      "name": "python"
    }
  },
  "cells": [
    {
      "cell_type": "markdown",
      "metadata": {
        "id": "view-in-github",
        "colab_type": "text"
      },
      "source": [
        "<a href=\"https://colab.research.google.com/github/sarkarsubir408/Subir-Sarkar/blob/main/C2.ipynb\" target=\"_parent\"><img src=\"https://colab.research.google.com/assets/colab-badge.svg\" alt=\"Open In Colab\"/></a>"
      ]
    },
    {
      "cell_type": "code",
      "execution_count": 1,
      "metadata": {
        "colab": {
          "base_uri": "https://localhost:8080/"
        },
        "id": "Z3j7n2ZvW31a",
        "outputId": "0cec1799-82d6-4f3c-d3f7-899281dddec7"
      },
      "outputs": [
        {
          "output_type": "stream",
          "name": "stdout",
          "text": [
            "Enter the No:9\n",
            "         \n",
            "        *\n",
            "       **\n",
            "      ***\n",
            "     ****\n",
            "    *****\n",
            "   ******\n",
            "  *******\n",
            " ********\n"
          ]
        }
      ],
      "source": [
        "from time import sleep\n",
        "n=int(input(\"Enter the No:\"))\n",
        "for i in range(n):\n",
        "  print(((n-i)*\" \")+(i*\"*\"))\n",
        "  sleep(1)"
      ]
    },
    {
      "cell_type": "code",
      "source": [
        "from time import sleep\n",
        "n=int(input(\"Enter the No:\"))\n",
        "for i in range(n):\n",
        "  print((i*\"*\")+(2*((n-i))*\" \")+(i*\"*\"))\n",
        "  sleep(1)"
      ],
      "metadata": {
        "colab": {
          "base_uri": "https://localhost:8080/"
        },
        "id": "KiyAMXEEYbEv",
        "outputId": "cb4524a9-da28-4111-bc57-6c1341680abd"
      },
      "execution_count": 2,
      "outputs": [
        {
          "output_type": "stream",
          "name": "stdout",
          "text": [
            "Enter the No:9\n",
            "                  \n",
            "*                *\n",
            "**              **\n",
            "***            ***\n",
            "****          ****\n",
            "*****        *****\n",
            "******      ******\n",
            "*******    *******\n",
            "********  ********\n"
          ]
        }
      ]
    },
    {
      "cell_type": "code",
      "source": [
        "from time import sleep\n",
        "n=int(input(\"Enter the No:\"))\n",
        "for i in range(n):\n",
        "  print((i*\"*\")+(((n-i))*\" \")+(i*\"*\"))\n",
        "  sleep(1)"
      ],
      "metadata": {
        "colab": {
          "base_uri": "https://localhost:8080/"
        },
        "id": "g5JubhNjadC0",
        "outputId": "3c748972-ca73-444b-c928-10885bdc895d"
      },
      "execution_count": 3,
      "outputs": [
        {
          "output_type": "stream",
          "name": "stdout",
          "text": [
            "Enter the No:8\n",
            "        \n",
            "*       *\n",
            "**      **\n",
            "***     ***\n",
            "****    ****\n",
            "*****   *****\n",
            "******  ******\n",
            "******* *******\n"
          ]
        }
      ]
    },
    {
      "cell_type": "code",
      "source": [
        "from time import sleep\n",
        "n=int(input(\"Enter the No:\"))\n",
        "for i in range(n):\n",
        "  print((n-i)*\"*\")\n",
        "  sleep(1)"
      ],
      "metadata": {
        "colab": {
          "base_uri": "https://localhost:8080/"
        },
        "id": "m74lji8mesIz",
        "outputId": "7e5d631e-1353-42c5-8782-2d86e95db8c0"
      },
      "execution_count": 3,
      "outputs": [
        {
          "output_type": "stream",
          "name": "stdout",
          "text": [
            "Enter the No:7\n",
            "*******\n",
            "******\n",
            "*****\n",
            "****\n",
            "***\n",
            "**\n",
            "*\n"
          ]
        }
      ]
    },
    {
      "cell_type": "code",
      "source": [
        "for i in range(10):\n",
        "  if(i<5):\n",
        "    print((i*\"*\"))\n",
        "  else:\n",
        "    print((10-i)*(\"*\"))"
      ],
      "metadata": {
        "colab": {
          "base_uri": "https://localhost:8080/"
        },
        "id": "-H6y0_CUgW3K",
        "outputId": "2fff05a4-f8a0-4201-cc38-a654027761e2"
      },
      "execution_count": 4,
      "outputs": [
        {
          "output_type": "stream",
          "name": "stdout",
          "text": [
            "\n",
            "*\n",
            "**\n",
            "***\n",
            "****\n",
            "*****\n",
            "****\n",
            "***\n",
            "**\n",
            "*\n"
          ]
        }
      ]
    },
    {
      "cell_type": "code",
      "source": [],
      "metadata": {
        "id": "um1yKyhOf5iz"
      },
      "execution_count": null,
      "outputs": []
    },
    {
      "cell_type": "code",
      "source": [
        "a=1\n",
        "while a<=9:\n",
        "  print(a*\"*\")\n",
        "  a=a+1"
      ],
      "metadata": {
        "colab": {
          "base_uri": "https://localhost:8080/"
        },
        "id": "MLOx-yHzbT_3",
        "outputId": "d243eba2-f36d-4df9-b8df-7b5d302ad9dc"
      },
      "execution_count": 2,
      "outputs": [
        {
          "output_type": "stream",
          "name": "stdout",
          "text": [
            "*\n",
            "**\n",
            "***\n",
            "****\n",
            "*****\n",
            "******\n",
            "*******\n",
            "********\n",
            "*********\n"
          ]
        }
      ]
    }
  ]
}